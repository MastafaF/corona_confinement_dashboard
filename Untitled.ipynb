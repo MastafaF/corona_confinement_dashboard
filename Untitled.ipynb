{
 "cells": [
  {
   "cell_type": "code",
   "execution_count": 66,
   "metadata": {},
   "outputs": [],
   "source": [
    "import pandas as pd\n",
    "import datetime as dt\n",
    "confinement_daily_df = pd.read_csv('./data/df_confinement.tsv', sep = '\\t' )\n",
    "\n",
    "\n",
    "# Changing each string datetime into a datatime object that we can manipulate\n",
    "confinement_daily_df['datetime_parsed'] = confinement_daily_df['datetime'].apply(get_date)\n"
   ]
  },
  {
   "cell_type": "code",
   "execution_count": 70,
   "metadata": {},
   "outputs": [],
   "source": [
    "def get_hour(str_datetime):\n",
    "    \"\"\"\n",
    "    From a string time in our dataframe, we want an object datetime\n",
    "    :param str_datetime:\n",
    "    :return:\n",
    "    \"\"\"\n",
    "    return(datetime.datetime.strptime(str_datetime, \"%d-%m-%Y_%I-%M-%S_%p\").hour)\n",
    "\n",
    "def get_date(str_datetime):\n",
    "    \"\"\"\n",
    "    From a string time in our dataframe, we want an object datetime\n",
    "    :param str_datetime:\n",
    "    :return:\n",
    "    \"\"\"\n",
    "    return(datetime.datetime.strptime(str_datetime[:10], \"%d-%m-%Y\"))\n",
    "\n",
    "date_of_study = get_date(confinement_df.max(axis = 0).datetime)"
   ]
  },
  {
   "cell_type": "code",
   "execution_count": 75,
   "metadata": {},
   "outputs": [
    {
     "data": {
      "text/html": [
       "<div>\n",
       "<style scoped>\n",
       "    .dataframe tbody tr th:only-of-type {\n",
       "        vertical-align: middle;\n",
       "    }\n",
       "\n",
       "    .dataframe tbody tr th {\n",
       "        vertical-align: top;\n",
       "    }\n",
       "\n",
       "    .dataframe thead th {\n",
       "        text-align: right;\n",
       "    }\n",
       "</style>\n",
       "<table border=\"1\" class=\"dataframe\">\n",
       "  <thead>\n",
       "    <tr style=\"text-align: right;\">\n",
       "      <th></th>\n",
       "      <th>Unnamed: 0</th>\n",
       "      <th>nb_detected</th>\n",
       "    </tr>\n",
       "    <tr>\n",
       "      <th>datetime_hour</th>\n",
       "      <th></th>\n",
       "      <th></th>\n",
       "    </tr>\n",
       "  </thead>\n",
       "  <tbody>\n",
       "    <tr>\n",
       "      <th>7</th>\n",
       "      <td>0.0</td>\n",
       "      <td>3.707143</td>\n",
       "    </tr>\n",
       "    <tr>\n",
       "      <th>8</th>\n",
       "      <td>0.0</td>\n",
       "      <td>2.654545</td>\n",
       "    </tr>\n",
       "    <tr>\n",
       "      <th>9</th>\n",
       "      <td>0.0</td>\n",
       "      <td>2.190909</td>\n",
       "    </tr>\n",
       "    <tr>\n",
       "      <th>10</th>\n",
       "      <td>0.0</td>\n",
       "      <td>1.929062</td>\n",
       "    </tr>\n",
       "  </tbody>\n",
       "</table>\n",
       "</div>"
      ],
      "text/plain": [
       "               Unnamed: 0  nb_detected\n",
       "datetime_hour                         \n",
       "7                     0.0     3.707143\n",
       "8                     0.0     2.654545\n",
       "9                     0.0     2.190909\n",
       "10                    0.0     1.929062"
      ]
     },
     "execution_count": 75,
     "metadata": {},
     "output_type": "execute_result"
    }
   ],
   "source": [
    "confinement_daily_df = confinement_daily_df[confinement_daily_df.datetime_parsed == date_of_study]\n",
    "confinement_daily_df['datetime_hour'] = confinement_daily_df['datetime'].apply(get_hour)\n",
    "confinement_daily_df.groupby(confinement_daily_df.datetime_hour).mean()"
   ]
  },
  {
   "cell_type": "code",
   "execution_count": null,
   "metadata": {},
   "outputs": [],
   "source": []
  }
 ],
 "metadata": {
  "kernelspec": {
   "display_name": "Python 3",
   "language": "python",
   "name": "python3"
  },
  "language_info": {
   "codemirror_mode": {
    "name": "ipython",
    "version": 3
   },
   "file_extension": ".py",
   "mimetype": "text/x-python",
   "name": "python",
   "nbconvert_exporter": "python",
   "pygments_lexer": "ipython3",
   "version": "3.7.2"
  }
 },
 "nbformat": 4,
 "nbformat_minor": 2
}
