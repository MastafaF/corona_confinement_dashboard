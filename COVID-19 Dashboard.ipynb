{
 "cells": [
  {
   "cell_type": "code",
   "execution_count": 2,
   "metadata": {},
   "outputs": [],
   "source": [
    "import pandas as pd\n",
    "import io\n",
    "import requests\n",
    "import datetime\n",
    "import plotly.express as px"
   ]
  },
  {
   "cell_type": "markdown",
   "metadata": {},
   "source": [
    "## Get the Timeseries Data\n",
    "\n",
    "Add documentation about the time series here."
   ]
  },
  {
   "cell_type": "code",
   "execution_count": 3,
   "metadata": {},
   "outputs": [],
   "source": [
    "from functions import get_time_series\n",
    "\n",
    "confirmed, deaths, recovered, time_series_dates = get_time_series(local=True)"
   ]
  },
  {
   "cell_type": "markdown",
   "metadata": {},
   "source": [
    "## Get all the Daily Reports \n",
    "\n",
    "Add documentation about these reports here."
   ]
  },
  {
   "cell_type": "code",
   "execution_count": 4,
   "metadata": {},
   "outputs": [
    {
     "name": "stdout",
     "output_type": "stream",
     "text": [
      "Getting daily reports using local data\n",
      "Failed to load data/03-14-2020.csv\n"
     ]
    }
   ],
   "source": [
    "from functions import get_daily_reports\n",
    "\n",
    "daily_report_data, daily_report_dates = get_daily_reports(local=True)"
   ]
  },
  {
   "cell_type": "markdown",
   "metadata": {},
   "source": [
    "## All Done Gathering Data.\n",
    "\n",
    "Let's merge the time_series_data into one dataframe"
   ]
  },
  {
   "cell_type": "code",
   "execution_count": null,
   "metadata": {},
   "outputs": [],
   "source": [
    "from functions import get_date_list\n",
    "date_list = get_date_list(daily_report_dates)\n",
    "print(confirmed.columns)\n",
    "print(daily_report_data['03-12-2020'].columns)"
   ]
  },
  {
   "cell_type": "code",
   "execution_count": null,
   "metadata": {},
   "outputs": [],
   "source": [
    "from math import log\n",
    "today = daily_report_data['03-12-2020']\n",
    "fig = px.scatter_geo(\n",
    "    today,\n",
    "    lat=today.Latitude,\n",
    "    lon=today.Longitude,\n",
    "    size=today.Confirmed\n",
    "    # size of markers, \"pop\" is one of the columns of gapminder\n",
    ")\n",
    "fig.show()"
   ]
  },
  {
   "cell_type": "code",
   "execution_count": null,
   "metadata": {},
   "outputs": [],
   "source": [
    "countries = sorted(confirmed['Country/Region'].drop_duplicates())\n",
    "country_labels = [{'label': country, 'value': country} for country in countries]\n",
    "print(country_labels)"
   ]
  },
  {
   "cell_type": "code",
   "execution_count": 5,
   "metadata": {},
   "outputs": [
    {
     "data": {
      "text/plain": [
       "array(['Washington', 'New York', 'California', 'Massachusetts',\n",
       "       'Diamond Princess', 'Grand Princess', 'Georgia', 'Colorado',\n",
       "       'Florida', 'New Jersey', 'Oregon', 'Texas', 'Illinois',\n",
       "       'Pennsylvania', 'Iowa', 'Maryland', 'North Carolina',\n",
       "       'South Carolina', 'Tennessee', 'Virginia', 'Arizona', 'Indiana',\n",
       "       'Kentucky', 'District of Columbia', 'Nevada', 'New Hampshire',\n",
       "       'Minnesota', 'Nebraska', 'Ohio', 'Rhode Island', 'Wisconsin',\n",
       "       'Connecticut', 'Hawaii', 'Oklahoma', 'Utah', 'Kansas', 'Louisiana',\n",
       "       'Missouri', 'Vermont', 'Alaska', 'Arkansas', 'Delaware', 'Idaho',\n",
       "       'Maine', 'Michigan', 'Mississippi', 'Montana', 'New Mexico',\n",
       "       'North Dakota', 'South Dakota', 'West Virginia', 'Wyoming'],\n",
       "      dtype=object)"
      ]
     },
     "execution_count": 5,
     "metadata": {},
     "output_type": "execute_result"
    }
   ],
   "source": [
    "us_confirmed = confirmed[(confirmed['Country/Region'] == 'US')]\n",
    "county_confirmed = us_confirmed[us_confirmed['Province/State'].str.contains(',')]\n",
    "\n",
    "us_deaths = deaths[(deaths['Country/Region'] == 'US')]\n",
    "county_deaths = us_deaths[us_deaths['Province/State'].str.contains(',')]\n",
    "\n",
    "us_recovered = recovered[(recovered['Country/Region'] == 'US')]\n",
    "county_deaths = us_recovered[us_recovered['Province/State'].str.contains(',')]\n",
    "\n",
    "from functions import list_of_states\n",
    "\n",
    "state_confirmed = us_confirmed[us_confirmed['Province/State'].isin(list_of_states)]\n",
    "state_confirmed['Province/State'].unique()"
   ]
  },
  {
   "cell_type": "code",
   "execution_count": null,
   "metadata": {},
   "outputs": [],
   "source": [
    "df = county_confirmed.copy()\n",
    "new = df['Province/State'].str.split(',', 1, expand=True).rename(columns={0:'County',1:'State'})\n",
    "df = pd.concat([df, new.reindex(df.index)], axis=1).copy()\n"
   ]
  },
  {
   "cell_type": "code",
   "execution_count": 18,
   "metadata": {},
   "outputs": [
    {
     "data": {
      "text/html": [
       "<div>\n",
       "<style scoped>\n",
       "    .dataframe tbody tr th:only-of-type {\n",
       "        vertical-align: middle;\n",
       "    }\n",
       "\n",
       "    .dataframe tbody tr th {\n",
       "        vertical-align: top;\n",
       "    }\n",
       "\n",
       "    .dataframe thead th {\n",
       "        text-align: right;\n",
       "    }\n",
       "</style>\n",
       "<table border=\"1\" class=\"dataframe\">\n",
       "  <thead>\n",
       "    <tr style=\"text-align: right;\">\n",
       "      <th></th>\n",
       "      <th>State</th>\n",
       "    </tr>\n",
       "  </thead>\n",
       "  <tbody>\n",
       "    <tr>\n",
       "      <th>100</th>\n",
       "      <td>WA</td>\n",
       "    </tr>\n",
       "    <tr>\n",
       "      <th>101</th>\n",
       "      <td>NY</td>\n",
       "    </tr>\n",
       "    <tr>\n",
       "      <th>102</th>\n",
       "      <td>CA</td>\n",
       "    </tr>\n",
       "    <tr>\n",
       "      <th>103</th>\n",
       "      <td>MA</td>\n",
       "    </tr>\n",
       "    <tr>\n",
       "      <th>104</th>\n",
       "      <td>None</td>\n",
       "    </tr>\n",
       "    <tr>\n",
       "      <th>...</th>\n",
       "      <td>...</td>\n",
       "    </tr>\n",
       "    <tr>\n",
       "      <th>399</th>\n",
       "      <td>None</td>\n",
       "    </tr>\n",
       "    <tr>\n",
       "      <th>400</th>\n",
       "      <td>None</td>\n",
       "    </tr>\n",
       "    <tr>\n",
       "      <th>401</th>\n",
       "      <td>None</td>\n",
       "    </tr>\n",
       "    <tr>\n",
       "      <th>402</th>\n",
       "      <td>None</td>\n",
       "    </tr>\n",
       "    <tr>\n",
       "      <th>403</th>\n",
       "      <td>None</td>\n",
       "    </tr>\n",
       "  </tbody>\n",
       "</table>\n",
       "<p>243 rows × 1 columns</p>\n",
       "</div>"
      ],
      "text/plain": [
       "    State\n",
       "100    WA\n",
       "101    NY\n",
       "102    CA\n",
       "103    MA\n",
       "104  None\n",
       "..    ...\n",
       "399  None\n",
       "400  None\n",
       "401  None\n",
       "402  None\n",
       "403  None\n",
       "\n",
       "[243 rows x 1 columns]"
      ]
     },
     "execution_count": 18,
     "metadata": {},
     "output_type": "execute_result"
    }
   ],
   "source": [
    "from functions import us_state_abbrev\n",
    "df = us_confirmed\n",
    "new"
   ]
  },
  {
   "cell_type": "code",
   "execution_count": 68,
   "metadata": {},
   "outputs": [],
   "source": [
    "def assign_state(state_value):\n",
    "    from functions import us_state_abbrev, abbrev_us_state\n",
    "    if state_value in list(us_state_abbrev.keys()):\n",
    "        # We have a State Name:\n",
    "        state = state_value\n",
    "        county = None\n",
    "    elif ','in state_value:\n",
    "        # We have a county, State Pair\n",
    "        county, state_abbrev = [x.strip() for x in state_value.split(',')]\n",
    "        state_abbrev = state_abbrev.replace('.','') # Watch out for D.C.!\n",
    "        state = abbrev_us_state[state_abbrev]\n",
    "    else:\n",
    "        # It's a cruise ship!\n",
    "        state = 'Cruise Ships'\n",
    "        county = None\n",
    "    return county, state\n",
    "\n",
    "\n",
    "def parse_counties(df,col='Province/State'):\n",
    "\tdf['State'] = df[col].apply(lambda x: us_state_abbrev.get(x, None)).copy()\n",
    "\tnew2 = df[col].str.split(',', 1, expand=True).rename(columns={0:'County',1:'State'})\n",
    "\tdf = pd.concat([df, new2.reindex(df.index)], axis=1).copy()\n",
    "\treturn df"
   ]
  },
  {
   "cell_type": "code",
   "execution_count": 76,
   "metadata": {},
   "outputs": [],
   "source": [
    "def get_states(df):\n",
    "    df['location'] = pd.DataFrame(df['Province/State'].apply(lambda x: assign_state(x)))\n",
    "    new_col_list = ['County','State']\n",
    "    for n,col in enumerate(new_col_list):\n",
    "        df[col] = df['location'].apply(lambda location: location[n])\n",
    "    df = df.drop('location',axis=1)\n",
    "    cols = df.columns.tolist()\n",
    "    df = df[cols[-2:] + cols[:-2]].copy()\n",
    "    return df"
   ]
  },
  {
   "cell_type": "code",
   "execution_count": 65,
   "metadata": {},
   "outputs": [
    {
     "data": {
      "text/plain": [
       "['Alabama',\n",
       " 'Alaska',\n",
       " 'Arizona',\n",
       " 'Arkansas',\n",
       " 'California',\n",
       " 'Colorado',\n",
       " 'Connecticut',\n",
       " 'Delaware',\n",
       " 'District of Columbia',\n",
       " 'Florida',\n",
       " 'Georgia',\n",
       " 'Hawaii',\n",
       " 'Idaho',\n",
       " 'Illinois',\n",
       " 'Indiana',\n",
       " 'Iowa',\n",
       " 'Kansas',\n",
       " 'Kentucky',\n",
       " 'Louisiana',\n",
       " 'Maine',\n",
       " 'Maryland',\n",
       " 'Massachusetts',\n",
       " 'Michigan',\n",
       " 'Minnesota',\n",
       " 'Mississippi',\n",
       " 'Missouri',\n",
       " 'Montana',\n",
       " 'Nebraska',\n",
       " 'Nevada',\n",
       " 'New Hampshire',\n",
       " 'New Jersey',\n",
       " 'New Mexico',\n",
       " 'New York',\n",
       " 'North Carolina',\n",
       " 'North Dakota',\n",
       " 'Northern Mariana Islands',\n",
       " 'Ohio',\n",
       " 'Oklahoma',\n",
       " 'Oregon',\n",
       " 'Palau',\n",
       " 'Pennsylvania',\n",
       " 'Puerto Rico',\n",
       " 'Rhode Island',\n",
       " 'South Carolina',\n",
       " 'South Dakota',\n",
       " 'Tennessee',\n",
       " 'Texas',\n",
       " 'Utah',\n",
       " 'Vermont',\n",
       " 'Virgin Islands',\n",
       " 'Virginia',\n",
       " 'Washington',\n",
       " 'West Virginia',\n",
       " 'Wisconsin',\n",
       " 'Wyoming']"
      ]
     },
     "execution_count": 65,
     "metadata": {},
     "output_type": "execute_result"
    }
   ],
   "source": [
    "#us_confirmed['Province/State'=='Washington']['State'] = 'WA'\n",
    "list(us_state_abbrev.keys())"
   ]
  }
 ],
 "metadata": {
  "kernelspec": {
   "display_name": "Python 3",
   "language": "python",
   "name": "python3"
  },
  "language_info": {
   "codemirror_mode": {
    "name": "ipython",
    "version": 3
   },
   "file_extension": ".py",
   "mimetype": "text/x-python",
   "name": "python",
   "nbconvert_exporter": "python",
   "pygments_lexer": "ipython3",
   "version": "3.7.6"
  }
 },
 "nbformat": 4,
 "nbformat_minor": 4
}
