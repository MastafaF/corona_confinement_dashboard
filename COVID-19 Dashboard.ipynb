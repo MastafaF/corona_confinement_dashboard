{
 "cells": [
  {
   "cell_type": "code",
   "execution_count": null,
   "metadata": {},
   "outputs": [],
   "source": [
    "import pandas as pd\n",
    "import io\n",
    "import requests\n",
    "import datetime\n",
    "import plotly.express as px"
   ]
  },
  {
   "cell_type": "markdown",
   "metadata": {},
   "source": [
    "## Get the Timeseries Data\n",
    "\n",
    "Add documentation about the time series here."
   ]
  },
  {
   "cell_type": "code",
   "execution_count": null,
   "metadata": {},
   "outputs": [],
   "source": [
    "from functions import get_time_series\n",
    "\n",
    "confirmed, deaths, recovered, time_series_dates = get_time_series(local=True)"
   ]
  },
  {
   "cell_type": "markdown",
   "metadata": {},
   "source": [
    "## Get all the Daily Reports \n",
    "\n",
    "Add documentation about these reports here."
   ]
  },
  {
   "cell_type": "code",
   "execution_count": null,
   "metadata": {},
   "outputs": [],
   "source": [
    "from functions import get_daily_reports\n",
    "\n",
    "daily_report_data, daily_report_dates = get_daily_reports(local=True)"
   ]
  },
  {
   "cell_type": "markdown",
   "metadata": {},
   "source": [
    "## All Done Gathering Data.\n",
    "\n",
    "Let's merge the time_series_data into one dataframe"
   ]
  },
  {
   "cell_type": "code",
   "execution_count": null,
   "metadata": {},
   "outputs": [],
   "source": [
    "from model import data_by_area\n",
    "from data import us_confirmed \n",
    "\n",
    "data = data_by_area(area='Nebraska', col='State', df=us_confirmed)\n",
    "data.plot()"
   ]
  },
  {
   "cell_type": "code",
   "execution_count": null,
   "metadata": {},
   "outputs": [],
   "source": [
    "\n",
    "def data_by_area(area='US', col='Country/Region', df=None):\n",
    "\tfrom data import time_series_date_list\n",
    "\tprint(col)\n",
    "\tdata =pd.Series(\n",
    "\t\t[df.loc[(df[col] == area)][date].sum() for date in time_series_date_list],\n",
    "\t\t)\n",
    "\treturn data\n"
   ]
  },
  {
   "cell_type": "code",
   "execution_count": null,
   "metadata": {
    "scrolled": true
   },
   "outputs": [],
   "source": [
    "data_by_area(area='US', df=confirmed).plot()"
   ]
  },
  {
   "cell_type": "code",
   "execution_count": 1,
   "metadata": {},
   "outputs": [
    {
     "name": "stdout",
     "output_type": "stream",
     "text": [
      "Getting daily reports using local data\n",
      "Index(['Vietnam', 'French Guiana', 'Croatia', 'Cruise Ship', 'Cuba', 'Cyprus',\n",
      "       'Czechia', 'Denmark', 'Dominican Republic', 'Ecuador',\n",
      "       ...\n",
      "       'Mongolia', 'Morocco', 'Nepal', 'Netherlands', 'New Zealand', 'Nigeria',\n",
      "       'North Macedonia', 'Norway', 'Oman', 'Afghanistan'],\n",
      "      dtype='object', name='Country/Region', length=125)\n"
     ]
    },
    {
     "data": {
      "text/plain": [
       "[{'label': 'Global', 'value': 'Global'},\n",
       " {'label': 'Vietnam', 'value': 'Vietnam'},\n",
       " {'label': 'French Guiana', 'value': 'French Guiana'},\n",
       " {'label': 'Croatia', 'value': 'Croatia'},\n",
       " {'label': 'Cruise Ship', 'value': 'Cruise Ship'},\n",
       " {'label': 'Cuba', 'value': 'Cuba'},\n",
       " {'label': 'Cyprus', 'value': 'Cyprus'},\n",
       " {'label': 'Czechia', 'value': 'Czechia'},\n",
       " {'label': 'Denmark', 'value': 'Denmark'},\n",
       " {'label': 'Dominican Republic', 'value': 'Dominican Republic'},\n",
       " {'label': 'Ecuador', 'value': 'Ecuador'},\n",
       " {'label': 'Egypt', 'value': 'Egypt'},\n",
       " {'label': 'Estonia', 'value': 'Estonia'},\n",
       " {'label': 'Ethiopia', 'value': 'Ethiopia'},\n",
       " {'label': 'Finland', 'value': 'Finland'},\n",
       " {'label': 'France', 'value': 'France'},\n",
       " {'label': 'Georgia', 'value': 'Georgia'},\n",
       " {'label': 'Israel', 'value': 'Israel'},\n",
       " {'label': 'Germany', 'value': 'Germany'},\n",
       " {'label': 'Greece', 'value': 'Greece'},\n",
       " {'label': 'Guadeloupe', 'value': 'Guadeloupe'},\n",
       " {'label': 'Guinea', 'value': 'Guinea'},\n",
       " {'label': 'Guyana', 'value': 'Guyana'},\n",
       " {'label': 'Holy See', 'value': 'Holy See'},\n",
       " {'label': 'Honduras', 'value': 'Honduras'},\n",
       " {'label': 'Hungary', 'value': 'Hungary'},\n",
       " {'label': 'Iceland', 'value': 'Iceland'},\n",
       " {'label': 'India', 'value': 'India'},\n",
       " {'label': 'Indonesia', 'value': 'Indonesia'},\n",
       " {'label': 'Iran', 'value': 'Iran'},\n",
       " {'label': 'Iraq', 'value': 'Iraq'},\n",
       " {'label': \"Cote d'Ivoire\", 'value': \"Cote d'Ivoire\"},\n",
       " {'label': 'Costa Rica', 'value': 'Costa Rica'},\n",
       " {'label': 'Congo (Kinshasa)', 'value': 'Congo (Kinshasa)'},\n",
       " {'label': 'Colombia', 'value': 'Colombia'},\n",
       " {'label': 'Albania', 'value': 'Albania'},\n",
       " {'label': 'Algeria', 'value': 'Algeria'},\n",
       " {'label': 'Andorra', 'value': 'Andorra'},\n",
       " {'label': 'Antigua and Barbuda', 'value': 'Antigua and Barbuda'},\n",
       " {'label': 'Argentina', 'value': 'Argentina'},\n",
       " {'label': 'Armenia', 'value': 'Armenia'},\n",
       " {'label': 'Aruba', 'value': 'Aruba'},\n",
       " {'label': 'Australia', 'value': 'Australia'},\n",
       " {'label': 'Austria', 'value': 'Austria'},\n",
       " {'label': 'Azerbaijan', 'value': 'Azerbaijan'},\n",
       " {'label': 'Bahrain', 'value': 'Bahrain'},\n",
       " {'label': 'Bangladesh', 'value': 'Bangladesh'},\n",
       " {'label': 'Belarus', 'value': 'Belarus'},\n",
       " {'label': 'Belgium', 'value': 'Belgium'},\n",
       " {'label': 'Bhutan', 'value': 'Bhutan'},\n",
       " {'label': 'Bolivia', 'value': 'Bolivia'},\n",
       " {'label': 'Bosnia and Herzegovina', 'value': 'Bosnia and Herzegovina'},\n",
       " {'label': 'Brazil', 'value': 'Brazil'},\n",
       " {'label': 'Brunei', 'value': 'Brunei'},\n",
       " {'label': 'Bulgaria', 'value': 'Bulgaria'},\n",
       " {'label': 'Burkina Faso', 'value': 'Burkina Faso'},\n",
       " {'label': 'Cambodia', 'value': 'Cambodia'},\n",
       " {'label': 'Cameroon', 'value': 'Cameroon'},\n",
       " {'label': 'Canada', 'value': 'Canada'},\n",
       " {'label': 'Cayman Islands', 'value': 'Cayman Islands'},\n",
       " {'label': 'Chile', 'value': 'Chile'},\n",
       " {'label': 'China', 'value': 'China'},\n",
       " {'label': 'Ireland', 'value': 'Ireland'},\n",
       " {'label': 'Italy', 'value': 'Italy'},\n",
       " {'label': 'United Kingdom', 'value': 'United Kingdom'},\n",
       " {'label': 'Slovenia', 'value': 'Slovenia'},\n",
       " {'label': 'Philippines', 'value': 'Philippines'},\n",
       " {'label': 'Poland', 'value': 'Poland'},\n",
       " {'label': 'Portugal', 'value': 'Portugal'},\n",
       " {'label': 'Qatar', 'value': 'Qatar'},\n",
       " {'label': 'Reunion', 'value': 'Reunion'},\n",
       " {'label': 'Romania', 'value': 'Romania'},\n",
       " {'label': 'Russia', 'value': 'Russia'},\n",
       " {'label': 'San Marino', 'value': 'San Marino'},\n",
       " {'label': 'Saudi Arabia', 'value': 'Saudi Arabia'},\n",
       " {'label': 'Senegal', 'value': 'Senegal'},\n",
       " {'label': 'Serbia', 'value': 'Serbia'},\n",
       " {'label': 'Singapore', 'value': 'Singapore'},\n",
       " {'label': 'Slovakia', 'value': 'Slovakia'},\n",
       " {'label': 'South Africa', 'value': 'South Africa'},\n",
       " {'label': 'Jamaica', 'value': 'Jamaica'},\n",
       " {'label': 'Spain', 'value': 'Spain'},\n",
       " {'label': 'Sri Lanka', 'value': 'Sri Lanka'},\n",
       " {'label': 'Sudan', 'value': 'Sudan'},\n",
       " {'label': 'Sweden', 'value': 'Sweden'},\n",
       " {'label': 'Switzerland', 'value': 'Switzerland'},\n",
       " {'label': 'Taiwan*', 'value': 'Taiwan*'},\n",
       " {'label': 'Thailand', 'value': 'Thailand'},\n",
       " {'label': 'Togo', 'value': 'Togo'},\n",
       " {'label': 'Tunisia', 'value': 'Tunisia'},\n",
       " {'label': 'Turkey', 'value': 'Turkey'},\n",
       " {'label': 'US', 'value': 'US'},\n",
       " {'label': 'Ukraine', 'value': 'Ukraine'},\n",
       " {'label': 'United Arab Emirates', 'value': 'United Arab Emirates'},\n",
       " {'label': 'Peru', 'value': 'Peru'},\n",
       " {'label': 'Paraguay', 'value': 'Paraguay'},\n",
       " {'label': 'Panama', 'value': 'Panama'},\n",
       " {'label': 'Pakistan', 'value': 'Pakistan'},\n",
       " {'label': 'Japan', 'value': 'Japan'},\n",
       " {'label': 'Jordan', 'value': 'Jordan'},\n",
       " {'label': 'Kazakhstan', 'value': 'Kazakhstan'},\n",
       " {'label': 'Kenya', 'value': 'Kenya'},\n",
       " {'label': 'Korea, South', 'value': 'Korea, South'},\n",
       " {'label': 'Kuwait', 'value': 'Kuwait'},\n",
       " {'label': 'Latvia', 'value': 'Latvia'},\n",
       " {'label': 'Lebanon', 'value': 'Lebanon'},\n",
       " {'label': 'Liechtenstein', 'value': 'Liechtenstein'},\n",
       " {'label': 'Lithuania', 'value': 'Lithuania'},\n",
       " {'label': 'Luxembourg', 'value': 'Luxembourg'},\n",
       " {'label': 'Malaysia', 'value': 'Malaysia'},\n",
       " {'label': 'Maldives', 'value': 'Maldives'},\n",
       " {'label': 'Malta', 'value': 'Malta'},\n",
       " {'label': 'Martinique', 'value': 'Martinique'},\n",
       " {'label': 'Mexico', 'value': 'Mexico'},\n",
       " {'label': 'Moldova', 'value': 'Moldova'},\n",
       " {'label': 'Monaco', 'value': 'Monaco'},\n",
       " {'label': 'Mongolia', 'value': 'Mongolia'},\n",
       " {'label': 'Morocco', 'value': 'Morocco'},\n",
       " {'label': 'Nepal', 'value': 'Nepal'},\n",
       " {'label': 'Netherlands', 'value': 'Netherlands'},\n",
       " {'label': 'New Zealand', 'value': 'New Zealand'},\n",
       " {'label': 'Nigeria', 'value': 'Nigeria'},\n",
       " {'label': 'North Macedonia', 'value': 'North Macedonia'},\n",
       " {'label': 'Norway', 'value': 'Norway'},\n",
       " {'label': 'Oman', 'value': 'Oman'},\n",
       " {'label': 'Afghanistan', 'value': 'Afghanistan'}]"
      ]
     },
     "execution_count": 1,
     "metadata": {},
     "output_type": "execute_result"
    }
   ],
   "source": [
    "from functions import make_country_labels, make_state_labels\n",
    "\n",
    "from data import confirmed\n",
    "\n",
    "data = confirmed.copy()\n",
    "print(data.groupby('Country/Region').sum().iloc[:,-1].sort_values(ascending=False).index)\n",
    "\n",
    "\n",
    "make_country_labels(data=confirmed)"
   ]
  },
  {
   "cell_type": "code",
   "execution_count": 3,
   "metadata": {},
   "outputs": [
    {
     "data": {
      "text/plain": [
       "Country/Region\n",
       "Vietnam            0.0\n",
       "French Guiana      0.0\n",
       "Croatia            0.0\n",
       "Cruise Ship        0.0\n",
       "Cuba               0.0\n",
       "                  ... \n",
       "Nigeria            0.0\n",
       "North Macedonia    0.0\n",
       "Norway             0.0\n",
       "Oman               0.0\n",
       "Afghanistan        0.0\n",
       "Name: 3/14/20, Length: 125, dtype: float64"
      ]
     },
     "execution_count": 3,
     "metadata": {},
     "output_type": "execute_result"
    }
   ],
   "source": [
    "data.groupby('Country/Region').sum().iloc[:,-1].sort_values(ascending=False)"
   ]
  }
 ],
 "metadata": {
  "kernelspec": {
   "display_name": "Python 3",
   "language": "python",
   "name": "python3"
  },
  "language_info": {
   "codemirror_mode": {
    "name": "ipython",
    "version": 3
   },
   "file_extension": ".py",
   "mimetype": "text/x-python",
   "name": "python",
   "nbconvert_exporter": "python",
   "pygments_lexer": "ipython3",
   "version": "3.7.6"
  }
 },
 "nbformat": 4,
 "nbformat_minor": 4
}
