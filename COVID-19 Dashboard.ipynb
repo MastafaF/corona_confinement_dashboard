{
 "cells": [
  {
   "cell_type": "code",
   "execution_count": 1,
   "metadata": {},
   "outputs": [],
   "source": [
    "import pandas as pd\n",
    "import io\n",
    "import requests\n",
    "import datetime\n",
    "import plotly.express as px"
   ]
  },
  {
   "cell_type": "markdown",
   "metadata": {},
   "source": [
    "## Get the Timeseries Data\n",
    "\n",
    "Add documentation about the time series here."
   ]
  },
  {
   "cell_type": "code",
   "execution_count": 2,
   "metadata": {},
   "outputs": [],
   "source": [
    "from functions import get_time_series\n",
    "\n",
    "confirmed, deaths, recovered, time_series_dates = get_time_series(local=True)"
   ]
  },
  {
   "cell_type": "markdown",
   "metadata": {},
   "source": [
    "## Get all the Daily Reports \n",
    "\n",
    "Add documentation about these reports here."
   ]
  },
  {
   "cell_type": "code",
   "execution_count": null,
   "metadata": {},
   "outputs": [],
   "source": [
    "from functions import get_daily_reports\n",
    "\n",
    "daily_report_data, daily_report_dates = get_daily_reports(local=True)"
   ]
  },
  {
   "cell_type": "markdown",
   "metadata": {},
   "source": [
    "## All Done Gathering Data.\n",
    "\n",
    "Let's merge the time_series_data into one dataframe"
   ]
  },
  {
   "cell_type": "code",
   "execution_count": 3,
   "metadata": {},
   "outputs": [
    {
     "name": "stdout",
     "output_type": "stream",
     "text": [
      "Getting daily reports using local data\n"
     ]
    },
    {
     "ename": "ImportError",
     "evalue": "cannot import name 'doubling_time' from 'model' (/Users/kellycaylor/Documents/dev/covid-19/model.py)",
     "output_type": "error",
     "traceback": [
      "\u001b[0;31m---------------------------------------------------------------------------\u001b[0m",
      "\u001b[0;31mImportError\u001b[0m                               Traceback (most recent call last)",
      "\u001b[0;32m<ipython-input-3-f4406dcdb538>\u001b[0m in \u001b[0;36m<module>\u001b[0;34m\u001b[0m\n\u001b[0;32m----> 1\u001b[0;31m \u001b[0;32mfrom\u001b[0m \u001b[0mmodel\u001b[0m \u001b[0;32mimport\u001b[0m \u001b[0mdata_by_area\u001b[0m\u001b[0;34m\u001b[0m\u001b[0;34m\u001b[0m\u001b[0m\n\u001b[0m\u001b[1;32m      2\u001b[0m \u001b[0;32mfrom\u001b[0m \u001b[0mdata\u001b[0m \u001b[0;32mimport\u001b[0m \u001b[0mus_confirmed\u001b[0m\u001b[0;34m\u001b[0m\u001b[0;34m\u001b[0m\u001b[0m\n\u001b[1;32m      3\u001b[0m \u001b[0;34m\u001b[0m\u001b[0m\n\u001b[1;32m      4\u001b[0m \u001b[0mdata\u001b[0m \u001b[0;34m=\u001b[0m \u001b[0mdata_by_area\u001b[0m\u001b[0;34m(\u001b[0m\u001b[0marea\u001b[0m\u001b[0;34m=\u001b[0m\u001b[0;34m'Nebraska'\u001b[0m\u001b[0;34m,\u001b[0m \u001b[0mcol\u001b[0m\u001b[0;34m=\u001b[0m\u001b[0;34m'State'\u001b[0m\u001b[0;34m,\u001b[0m \u001b[0mdf\u001b[0m\u001b[0;34m=\u001b[0m\u001b[0mus_confirmed\u001b[0m\u001b[0;34m)\u001b[0m\u001b[0;34m\u001b[0m\u001b[0;34m\u001b[0m\u001b[0m\n\u001b[1;32m      5\u001b[0m \u001b[0mdata\u001b[0m\u001b[0;34m.\u001b[0m\u001b[0mplot\u001b[0m\u001b[0;34m(\u001b[0m\u001b[0;34m)\u001b[0m\u001b[0;34m\u001b[0m\u001b[0;34m\u001b[0m\u001b[0m\n",
      "\u001b[0;32m~/Documents/dev/covid-19/model.py\u001b[0m in \u001b[0;36m<module>\u001b[0;34m\u001b[0m\n\u001b[1;32m      1\u001b[0m \u001b[0;31m# Functions to extract growth parameters\u001b[0m\u001b[0;34m\u001b[0m\u001b[0;34m\u001b[0m\u001b[0;34m\u001b[0m\u001b[0m\n\u001b[1;32m      2\u001b[0m \u001b[0;32mimport\u001b[0m \u001b[0mpandas\u001b[0m \u001b[0;32mas\u001b[0m \u001b[0mpd\u001b[0m\u001b[0;34m\u001b[0m\u001b[0;34m\u001b[0m\u001b[0m\n\u001b[0;32m----> 3\u001b[0;31m from data import (\n\u001b[0m\u001b[1;32m      4\u001b[0m         \u001b[0mdaily_report_data\u001b[0m\u001b[0;34m,\u001b[0m\u001b[0;34m\u001b[0m\u001b[0;34m\u001b[0m\u001b[0m\n\u001b[1;32m      5\u001b[0m         \u001b[0mtime_series_date_list\u001b[0m\u001b[0;34m\u001b[0m\u001b[0;34m\u001b[0m\u001b[0m\n",
      "\u001b[0;32m~/Documents/dev/covid-19/data.py\u001b[0m in \u001b[0;36m<module>\u001b[0;34m\u001b[0m\n\u001b[1;32m     15\u001b[0m \u001b[0mdaily_date_list\u001b[0m \u001b[0;34m=\u001b[0m \u001b[0mdaily_dates\u001b[0m\u001b[0;34m.\u001b[0m\u001b[0mtolist\u001b[0m\u001b[0;34m(\u001b[0m\u001b[0;34m)\u001b[0m\u001b[0;34m\u001b[0m\u001b[0;34m\u001b[0m\u001b[0m\n\u001b[1;32m     16\u001b[0m \u001b[0;34m\u001b[0m\u001b[0m\n\u001b[0;32m---> 17\u001b[0;31m \u001b[0;32mfrom\u001b[0m \u001b[0mmodel\u001b[0m \u001b[0;32mimport\u001b[0m \u001b[0mdoubling_time\u001b[0m\u001b[0;34m,\u001b[0m \u001b[0mgrowth_rate\u001b[0m\u001b[0;34m\u001b[0m\u001b[0;34m\u001b[0m\u001b[0m\n\u001b[0m\u001b[1;32m     18\u001b[0m \u001b[0;34m\u001b[0m\u001b[0m\n\u001b[1;32m     19\u001b[0m \u001b[0mconfirmed_totals\u001b[0m \u001b[0;34m=\u001b[0m \u001b[0mconfirmed\u001b[0m\u001b[0;34m.\u001b[0m\u001b[0mgroupby\u001b[0m\u001b[0;34m(\u001b[0m\u001b[0;34m'Country/Region'\u001b[0m\u001b[0;34m)\u001b[0m\u001b[0;34m.\u001b[0m\u001b[0msum\u001b[0m\u001b[0;34m(\u001b[0m\u001b[0;34m)\u001b[0m\u001b[0;34m\u001b[0m\u001b[0;34m\u001b[0m\u001b[0m\n",
      "\u001b[0;31mImportError\u001b[0m: cannot import name 'doubling_time' from 'model' (/Users/kellycaylor/Documents/dev/covid-19/model.py)"
     ]
    }
   ],
   "source": [
    "from model import data_by_area\n",
    "from data import us_confirmed \n",
    "\n",
    "data = data_by_area(area='Nebraska', col='State', df=us_confirmed)\n",
    "data.plot()"
   ]
  },
  {
   "cell_type": "code",
   "execution_count": null,
   "metadata": {},
   "outputs": [],
   "source": [
    "\n",
    "def data_by_area(area='US', col='Country/Region', df=None):\n",
    "\tfrom data import time_series_date_list\n",
    "\tprint(col)\n",
    "\tdata =pd.Series(\n",
    "\t\t[df.loc[(df[col] == area)][date].sum() for date in time_series_date_list],\n",
    "\t\t)\n",
    "\treturn data\n"
   ]
  },
  {
   "cell_type": "code",
   "execution_count": null,
   "metadata": {
    "scrolled": true
   },
   "outputs": [],
   "source": [
    "data_by_area(area='US', df=confirmed).plot()"
   ]
  },
  {
   "cell_type": "code",
   "execution_count": null,
   "metadata": {},
   "outputs": [],
   "source": [
    "from functions import make_country_labels, make_state_labels\n",
    "\n",
    "from data import confirmed\n",
    "\n",
    "data = confirmed.copy()\n",
    "print(data.groupby('Country/Region').sum().iloc[:,-1].sort_values(ascending=False).index)\n",
    "\n",
    "\n",
    "make_country_labels(data=confirmed)"
   ]
  },
  {
   "cell_type": "code",
   "execution_count": null,
   "metadata": {},
   "outputs": [],
   "source": [
    "data.groupby('Country/Region').sum().iloc[:,-2].sort_values(ascending=False)"
   ]
  },
  {
   "cell_type": "code",
   "execution_count": null,
   "metadata": {},
   "outputs": [],
   "source": [
    "import pandas as pd\n",
    "def get_daily_reports(local=True):\n",
    "    start_date = pd.to_datetime('01/22/2020')\n",
    "    end_date = pd.to_datetime('today')\n",
    "    dates = pd.date_range(start_date, end_date)\n",
    "    daily_reports = {}\n",
    "    all_reports = []\n",
    "    if local == True:\n",
    "        print('Getting daily reports using local data')\n",
    "        for date in dates:\n",
    "            date_str = date.strftime('%m-%d-%Y')\n",
    "            file_name = 'data/' + date_str + '.csv'\n",
    "            try:\n",
    "                df = pd.read_csv(file_name, header=0)\n",
    "                df['Date'] = date_str\n",
    "                all_reports.append(df)\n",
    "            except:\n",
    "                print(\"Failed to load {file}\".format(file=file_name))\n",
    "    elif local == False:\n",
    "        print('Getting daily reports using on-line data')\n",
    "        daily_report_url = 'https://raw.githubusercontent.com/CSSEGISandData/COVID-19/master/csse_covid_19_data/csse_covid_19_daily_reports/'\n",
    "        for date in dates:\n",
    "            # File format: 'MM-DD-YYYY.csv'\n",
    "            date_str = date.strftime('%m-%d-%Y')\n",
    "            file_name =date_str + '.csv'\n",
    "            url = daily_report_url + file_name\n",
    "            try:\n",
    "                df = pd.read_csv(file_name, header=0)\n",
    "                df['Date'] = date_str\n",
    "                all_reports.append(df)\n",
    "            except:\n",
    "                print(\"Failed to load {file}\".format(file=file_name))\n",
    "    daily_reports = pd.concat(all_reports, axis=0, ignore_index=True)\n",
    "#    valid_dates = [pd.to_datetime(date) for date in list(daily_reports.keys())]\n",
    "    return daily_reports"
   ]
  },
  {
   "cell_type": "code",
   "execution_count": null,
   "metadata": {},
   "outputs": [],
   "source": [
    "df = get_daily_reports()\n",
    "\n",
    "df['Date']\n",
    "df.Date = pd.to_datetime(df.Date)\n",
    "#df['Last Update'] = pd.to_datetime(df['Last Update'])\n",
    "#df['Last Update']"
   ]
  },
  {
   "cell_type": "code",
   "execution_count": null,
   "metadata": {},
   "outputs": [],
   "source": [
    "print(df.columns)\n",
    "area = 'US'\n",
    "most_recent = df[df['Country/Region'] == area]['Last Update'].max() - pd.Timedelta('12 hours')\n",
    "df[(df['Country/Region'] == area) & (df['Last Update'] >= most_recent)].sort_values('Last Update', ascending=False)"
   ]
  },
  {
   "cell_type": "code",
   "execution_count": null,
   "metadata": {},
   "outputs": [],
   "source": [
    "def recent_updates(area='US', timedelta='12 hours', sort='Confirmed', df=None):\n",
    "    ascending = {\n",
    "        'Province/State': True\n",
    "    }\n",
    "    most_recent = df[df['Country/Region'] == area]['Last Update'].max() - pd.Timedelta(timedelta)\n",
    "    return df[\n",
    "        (df['Country/Region'] == area) & (df['Last Update'] >= most_recent)].sort_values(\n",
    "            sort, ascending=ascending.get(sort, False))\n"
   ]
  },
  {
   "cell_type": "code",
   "execution_count": 5,
   "metadata": {},
   "outputs": [
    {
     "name": "stdout",
     "output_type": "stream",
     "text": [
      "Getting daily reports using local data\n"
     ]
    },
    {
     "ename": "ImportError",
     "evalue": "cannot import name 'doubling_time' from 'model' (/Users/kellycaylor/Documents/dev/covid-19/model.py)",
     "output_type": "error",
     "traceback": [
      "\u001b[0;31m---------------------------------------------------------------------------\u001b[0m",
      "\u001b[0;31mImportError\u001b[0m                               Traceback (most recent call last)",
      "\u001b[0;32m<ipython-input-5-4d753b125851>\u001b[0m in \u001b[0;36m<module>\u001b[0;34m\u001b[0m\n\u001b[0;32m----> 1\u001b[0;31m \u001b[0;32mfrom\u001b[0m \u001b[0mmodel\u001b[0m \u001b[0;32mimport\u001b[0m \u001b[0mdata_by_area\u001b[0m\u001b[0;34m\u001b[0m\u001b[0;34m\u001b[0m\u001b[0m\n\u001b[0m\u001b[1;32m      2\u001b[0m \u001b[0;32mfrom\u001b[0m \u001b[0mdata\u001b[0m \u001b[0;32mimport\u001b[0m \u001b[0mtime_series_dates\u001b[0m\u001b[0;34m,\u001b[0m \u001b[0mconfirmed\u001b[0m\u001b[0;34m,\u001b[0m \u001b[0mdeaths\u001b[0m\u001b[0;34m,\u001b[0m \u001b[0mget_states\u001b[0m\u001b[0;34m\u001b[0m\u001b[0;34m\u001b[0m\u001b[0m\n\u001b[1;32m      3\u001b[0m \u001b[0;32mimport\u001b[0m \u001b[0mnumpy\u001b[0m \u001b[0;32mas\u001b[0m \u001b[0mnp\u001b[0m\u001b[0;34m\u001b[0m\u001b[0;34m\u001b[0m\u001b[0m\n\u001b[1;32m      4\u001b[0m \u001b[0;34m\u001b[0m\u001b[0m\n\u001b[1;32m      5\u001b[0m \u001b[0mdf_c\u001b[0m \u001b[0;34m=\u001b[0m \u001b[0mconfirmed\u001b[0m\u001b[0;34m.\u001b[0m\u001b[0mgroupby\u001b[0m\u001b[0;34m(\u001b[0m\u001b[0;34m'Country/Region'\u001b[0m\u001b[0;34m)\u001b[0m\u001b[0;34m.\u001b[0m\u001b[0msum\u001b[0m\u001b[0;34m(\u001b[0m\u001b[0;34m)\u001b[0m\u001b[0;34m\u001b[0m\u001b[0;34m\u001b[0m\u001b[0m\n",
      "\u001b[0;32m~/Documents/dev/covid-19/model.py\u001b[0m in \u001b[0;36m<module>\u001b[0;34m\u001b[0m\n\u001b[1;32m      1\u001b[0m \u001b[0;31m# Functions to extract growth parameters\u001b[0m\u001b[0;34m\u001b[0m\u001b[0;34m\u001b[0m\u001b[0;34m\u001b[0m\u001b[0m\n\u001b[1;32m      2\u001b[0m \u001b[0;32mimport\u001b[0m \u001b[0mpandas\u001b[0m \u001b[0;32mas\u001b[0m \u001b[0mpd\u001b[0m\u001b[0;34m\u001b[0m\u001b[0;34m\u001b[0m\u001b[0m\n\u001b[0;32m----> 3\u001b[0;31m from data import (\n\u001b[0m\u001b[1;32m      4\u001b[0m         \u001b[0mdaily_report_data\u001b[0m\u001b[0;34m,\u001b[0m\u001b[0;34m\u001b[0m\u001b[0;34m\u001b[0m\u001b[0m\n\u001b[1;32m      5\u001b[0m         \u001b[0mtime_series_date_list\u001b[0m\u001b[0;34m\u001b[0m\u001b[0;34m\u001b[0m\u001b[0m\n",
      "\u001b[0;32m~/Documents/dev/covid-19/data.py\u001b[0m in \u001b[0;36m<module>\u001b[0;34m\u001b[0m\n\u001b[1;32m     15\u001b[0m \u001b[0mdaily_date_list\u001b[0m \u001b[0;34m=\u001b[0m \u001b[0mdaily_dates\u001b[0m\u001b[0;34m.\u001b[0m\u001b[0mtolist\u001b[0m\u001b[0;34m(\u001b[0m\u001b[0;34m)\u001b[0m\u001b[0;34m\u001b[0m\u001b[0;34m\u001b[0m\u001b[0m\n\u001b[1;32m     16\u001b[0m \u001b[0;34m\u001b[0m\u001b[0m\n\u001b[0;32m---> 17\u001b[0;31m \u001b[0;32mfrom\u001b[0m \u001b[0mmodel\u001b[0m \u001b[0;32mimport\u001b[0m \u001b[0mdoubling_time\u001b[0m\u001b[0;34m,\u001b[0m \u001b[0mgrowth_rate\u001b[0m\u001b[0;34m\u001b[0m\u001b[0;34m\u001b[0m\u001b[0m\n\u001b[0m\u001b[1;32m     18\u001b[0m \u001b[0;34m\u001b[0m\u001b[0m\n\u001b[1;32m     19\u001b[0m \u001b[0mconfirmed_totals\u001b[0m \u001b[0;34m=\u001b[0m \u001b[0mconfirmed\u001b[0m\u001b[0;34m.\u001b[0m\u001b[0mgroupby\u001b[0m\u001b[0;34m(\u001b[0m\u001b[0;34m'Country/Region'\u001b[0m\u001b[0;34m)\u001b[0m\u001b[0;34m.\u001b[0m\u001b[0msum\u001b[0m\u001b[0;34m(\u001b[0m\u001b[0;34m)\u001b[0m\u001b[0;34m\u001b[0m\u001b[0;34m\u001b[0m\u001b[0m\n",
      "\u001b[0;31mImportError\u001b[0m: cannot import name 'doubling_time' from 'model' (/Users/kellycaylor/Documents/dev/covid-19/model.py)"
     ]
    }
   ],
   "source": [
    "from model import data_by_area\n",
    "from data import time_series_dates, confirmed, deaths, get_states\n",
    "import numpy as np\n",
    "\n",
    "df_c = confirmed.groupby('Country/Region').sum()\n",
    "df_d = deaths.groupby('Country/Region').sum()"
   ]
  },
  {
   "cell_type": "code",
   "execution_count": 20,
   "metadata": {},
   "outputs": [],
   "source": [
    "import pandas as pd\n",
    "def growth_rate(\n",
    "        df=None,\n",
    "        ndays=7,\n",
    "        area=None,\n",
    "        col='Country/Region',\n",
    "        do_sort=True):\n",
    "    data = df[df.columns[-ndays:-1]].copy()\n",
    "    data = data.sort_values(list(data.columns)[-1:], ascending=False)\n",
    "    rates = (data.diff(axis=1)/data)\n",
    "    rates = rates[rates.columns[1:]]\n",
    "    if do_sort:\n",
    "        rates = rates.sort_values(list(rates.columns)[-1:], ascending=False)\n",
    "    if area:\n",
    "        rates = rates[col][area]\n",
    "    return rates\n"
   ]
  },
  {
   "cell_type": "code",
   "execution_count": 21,
   "metadata": {},
   "outputs": [
    {
     "name": "stdout",
     "output_type": "stream",
     "text": [
      "                                3/10/20  3/11/20  3/12/20  3/13/20  3/14/20\n",
      "Country/Region                                                             \n",
      "Rwanda                              NaN      NaN      NaN      NaN      1.0\n",
      "Eswatini                            NaN      NaN      NaN      NaN      1.0\n",
      "Uruguay                             NaN      NaN      NaN      NaN      1.0\n",
      "Ghana                               NaN      NaN      NaN      NaN      1.0\n",
      "Seychelles                          NaN      NaN      NaN      NaN      1.0\n",
      "...                                 ...      ...      ...      ...      ...\n",
      "Central African Republic            NaN      NaN      NaN      NaN      NaN\n",
      "Kosovo                              NaN      NaN      NaN      NaN      NaN\n",
      "Congo (Brazzaville)                 NaN      NaN      NaN      NaN      NaN\n",
      "Equatorial Guinea                   NaN      NaN      NaN      NaN      NaN\n",
      "occupied Palestinian territory      NaN      NaN      NaN      NaN      NaN\n",
      "\n",
      "[147 rows x 5 columns]\n"
     ]
    }
   ],
   "source": [
    "rates = growth_rate(df=df_c)\n",
    "print(rates)"
   ]
  },
  {
   "cell_type": "code",
   "execution_count": 4,
   "metadata": {},
   "outputs": [
    {
     "ename": "NameError",
     "evalue": "name 'df_c' is not defined",
     "output_type": "error",
     "traceback": [
      "\u001b[0;31m---------------------------------------------------------------------------\u001b[0m",
      "\u001b[0;31mNameError\u001b[0m                                 Traceback (most recent call last)",
      "\u001b[0;32m<ipython-input-4-a94f7dc3c42a>\u001b[0m in \u001b[0;36m<module>\u001b[0;34m\u001b[0m\n\u001b[1;32m      1\u001b[0m \u001b[0mpandemic\u001b[0m \u001b[0;34m=\u001b[0m \u001b[0;36m100\u001b[0m\u001b[0;34m\u001b[0m\u001b[0;34m\u001b[0m\u001b[0m\n\u001b[0;32m----> 2\u001b[0;31m \u001b[0mpandemic_confirmed\u001b[0m \u001b[0;34m=\u001b[0m \u001b[0mdf_c\u001b[0m\u001b[0;34m[\u001b[0m\u001b[0mdf_c\u001b[0m\u001b[0;34m.\u001b[0m\u001b[0miloc\u001b[0m\u001b[0;34m[\u001b[0m\u001b[0;34m:\u001b[0m\u001b[0;34m,\u001b[0m\u001b[0;34m-\u001b[0m\u001b[0;36m1\u001b[0m\u001b[0;34m]\u001b[0m\u001b[0;34m>\u001b[0m\u001b[0mpandemic\u001b[0m\u001b[0;34m]\u001b[0m\u001b[0;34m\u001b[0m\u001b[0;34m\u001b[0m\u001b[0m\n\u001b[0m\u001b[1;32m      3\u001b[0m \u001b[0mpandemic_deaths\u001b[0m \u001b[0;34m=\u001b[0m \u001b[0mdf_d\u001b[0m\u001b[0;34m[\u001b[0m\u001b[0mdf_c\u001b[0m\u001b[0;34m.\u001b[0m\u001b[0miloc\u001b[0m\u001b[0;34m[\u001b[0m\u001b[0;34m:\u001b[0m\u001b[0;34m,\u001b[0m\u001b[0;34m-\u001b[0m\u001b[0;36m1\u001b[0m\u001b[0;34m]\u001b[0m\u001b[0;34m>\u001b[0m\u001b[0mpandemic\u001b[0m\u001b[0;34m]\u001b[0m\u001b[0;34m\u001b[0m\u001b[0;34m\u001b[0m\u001b[0m\n\u001b[1;32m      4\u001b[0m \u001b[0;34m\u001b[0m\u001b[0m\n\u001b[1;32m      5\u001b[0m \u001b[0mcase_rates\u001b[0m \u001b[0;34m=\u001b[0m \u001b[0mgrowth_rate\u001b[0m\u001b[0;34m(\u001b[0m\u001b[0mdf\u001b[0m\u001b[0;34m=\u001b[0m\u001b[0mpandemic_confirmed\u001b[0m\u001b[0;34m)\u001b[0m\u001b[0;34m\u001b[0m\u001b[0;34m\u001b[0m\u001b[0m\n",
      "\u001b[0;31mNameError\u001b[0m: name 'df_c' is not defined"
     ]
    }
   ],
   "source": [
    "pandemic = 100\n",
    "pandemic_confirmed = df_c[df_c.iloc[:,-1]>pandemic]\n",
    "pandemic_deaths = df_d[df_c.iloc[:,-1]>pandemic]\n",
    "\n",
    "case_rates = growth_rate(df=pandemic_confirmed)\n",
    "death_rates = growth_rate(df=pandemic_deaths)\n",
    "\n"
   ]
  },
  {
   "cell_type": "code",
   "execution_count": 28,
   "metadata": {},
   "outputs": [],
   "source": [
    "import plotly.graph_objects as go\n",
    "fig = go.Figure()\n",
    "fig.layout.title = 'tets'"
   ]
  },
  {
   "cell_type": "code",
   "execution_count": 47,
   "metadata": {},
   "outputs": [
    {
     "name": "stdout",
     "output_type": "stream",
     "text": [
      "3/15/20\n"
     ]
    },
    {
     "data": {
      "text/plain": [
       "[200, 400, 600, 800, 1000, 1200, 1400, 1600, 1800, 2000]"
      ]
     },
     "execution_count": 47,
     "metadata": {},
     "output_type": "execute_result"
    }
   ],
   "source": [
    "from data import time_series_date_list\n",
    "ndays = 10\n",
    "print(time_series_date_list[-1])\n",
    "{str(date): str(date) for date in time_series_date_list[-ndays:]}\n",
    "\n",
    "import numpy as np\n",
    "[a for a in np.arange(0,2200,200)][1:]"
   ]
  },
  {
   "cell_type": "code",
   "execution_count": 52,
   "metadata": {},
   "outputs": [],
   "source": [
    "pandemic = 100\n",
    "pandemic_countries = all_countries[all_countries['3/13/20'] >= pandemic].copy()\n",
    "\n",
    "#confirmed[confirmed.columns[4:]].diff(axis=1)/confirmed[confirmed.columns[4:]].plot()\n",
    "\n",
    "ndays = 7\n",
    "\n",
    "data = pandemic_countries[pandemic_countries.columns[-ndays:-1]].copy()\n",
    "data = data.sort_values(list(data.columns)[-1:], ascending=False)\n",
    "\n",
    "rates = (data.diff(axis=1)/data)\n",
    "rates = rates[rates.columns[1:]]\n",
    "rates = rates.sort_values(list(rates.columns)[-1:], ascending=False)\n",
    "\n",
    "\n",
    "\n",
    "from math import log\n",
    "doubling_times = log(2)/rates\n",
    "doubling_times[doubling_times == np.inf]=None\n",
    "#print(doubling_times.mean(axis=1).sort_values())\n"
   ]
  },
  {
   "cell_type": "code",
   "execution_count": 14,
   "metadata": {},
   "outputs": [
    {
     "name": "stdout",
     "output_type": "stream",
     "text": [
      "['01/22/20', '01/23/20', '01/24/20', '01/25/20', '01/26/20', '01/27/20', '01/28/20', '01/29/20', '01/30/20', '01/31/20', '02/01/20', '02/02/20', '02/03/20', '02/04/20', '02/05/20', '02/06/20', '02/07/20', '02/08/20', '02/09/20', '02/10/20', '02/11/20', '02/12/20', '02/13/20', '02/14/20', '02/15/20', '02/16/20', '02/17/20', '02/18/20', '02/19/20', '02/20/20', '02/21/20', '02/22/20', '02/23/20', '02/24/20', '02/25/20', '02/26/20', '02/27/20', '02/28/20', '02/29/20', '03/01/20', '03/02/20', '03/03/20', '03/04/20', '03/05/20', '03/06/20', '03/07/20', '03/08/20', '03/09/20', '03/10/20', '03/11/20', '03/12/20', '03/13/20', '03/14/20', '03/15/20']\n"
     ]
    },
    {
     "data": {
      "text/plain": [
       "{0: '01/22/20',\n",
       " 7: '01/29/20',\n",
       " 14: '02/05/20',\n",
       " 21: '02/12/20',\n",
       " 28: '02/19/20',\n",
       " 35: '02/26/20',\n",
       " 42: '03/04/20',\n",
       " 49: '03/11/20',\n",
       " 53: '03/15/20'}"
      ]
     },
     "execution_count": 14,
     "metadata": {},
     "output_type": "execute_result"
    }
   ],
   "source": [
    "from data import data_df, dates\n",
    "import pandas as pd\n",
    "import numpy as np\n",
    "\n",
    "variables = dict(\n",
    "    confirmed='Total Confirmed Cases',\n",
    "    deaths='Total Deaths',\n",
    "    recovered='Total Recovered Cases',\n",
    "    new_confirmed='New Confirmed Cases',\n",
    "    new_deaths='New Deaths',\n",
    "    new_recovered='New Recovered Cases',\n",
    "    case_rate='% Increase in Confirmed Cases',\n",
    "    death_rate='% Increase in Deaths',\n",
    "    case_mortality='Cumulative Case Mortality Rate',\n",
    "    case_recovery='Cumulative Case Recovery Rate',\n",
    "    case_doubling='Doubling Time for Confirmed Cases',\n",
    "    death_doubling='Doubling Time of Deaths'\n",
    ")\n",
    "\n",
    "date_value = '2/22/20'\n",
    "dff = data_df[data_df['date'] == date_value].copy()\n",
    "\n",
    "xaxis_column_name = 'confirmed'\n",
    "dff[dff['variable'] == xaxis_column_name]['value']\n",
    "\n",
    "date_strings = [date.strftime('%m/%d/%y') for date in dates]\n",
    "print(date_strings)\n",
    "\n",
    "{i: date_strings[i] for i in list(np.arange(0,len(date_strings),7)) + [len(date_strings)-1]}"
   ]
  },
  {
   "cell_type": "code",
   "execution_count": 8,
   "metadata": {},
   "outputs": [
    {
     "data": {
      "text/plain": [
       "{'case_mortality': 'Cumulative Case Mortality Rate',\n",
       " 'case_recovery': 'Cumulative Case Recovery Rate',\n",
       " 'case_doubling': 'Doubling Time for Confirmed Cases',\n",
       " 'death_doubling': 'Doubling Time of Deaths',\n",
       " 'new_confirmed': 'New Confirmed Cases',\n",
       " 'new_deaths': 'New Deaths',\n",
       " 'new_recovered': 'New Recovered Cases',\n",
       " 'case_rate': 'Percent Increase in Confirmed Cases',\n",
       " 'death_rate': 'Percent Increase in Deaths',\n",
       " 'confirmed': 'Total Confirmed Cases',\n",
       " 'deaths': 'Total Deaths',\n",
       " 'recovered': 'Total Recovered Cases'}"
      ]
     },
     "execution_count": 8,
     "metadata": {},
     "output_type": "execute_result"
    }
   ],
   "source": [
    "from data import variable_dict\n",
    "\n",
    "{variable: label for label, variable in sorted(variable_dict.items())}"
   ]
  },
  {
   "cell_type": "code",
   "execution_count": 19,
   "metadata": {},
   "outputs": [
    {
     "data": {
      "text/plain": [
       "20200316"
      ]
     },
     "execution_count": 19,
     "metadata": {},
     "output_type": "execute_result"
    }
   ],
   "source": [
    "from data import dates\n",
    "import pandas as pd\n",
    "import datetime\n",
    "\n",
    "t = datetime.datetime.now()\n",
    "int(t.strftime('%Y%m%d'))\n",
    "\n",
    "#{str(date.strftime('%m/%d/%y')): str(date.strftime('%m/%d/%y')) for date in dates}"
   ]
  }
 ],
 "metadata": {
  "kernelspec": {
   "display_name": "Python 3",
   "language": "python",
   "name": "python3"
  },
  "language_info": {
   "codemirror_mode": {
    "name": "ipython",
    "version": 3
   },
   "file_extension": ".py",
   "mimetype": "text/x-python",
   "name": "python",
   "nbconvert_exporter": "python",
   "pygments_lexer": "ipython3",
   "version": "3.7.2"
  }
 },
 "nbformat": 4,
 "nbformat_minor": 4
}
